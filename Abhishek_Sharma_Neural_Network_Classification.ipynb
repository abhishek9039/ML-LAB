{
  "nbformat": 4,
  "nbformat_minor": 0,
  "metadata": {
    "colab": {
      "name": "Abhishek Sharma Neural_Network_Classification.ipynb",
      "provenance": [],
      "collapsed_sections": [],
      "include_colab_link": true
    },
    "kernelspec": {
      "name": "python3",
      "display_name": "Python 3"
    },
    "language_info": {
      "name": "python"
    }
  },
  "cells": [
    {
      "cell_type": "markdown",
      "metadata": {
        "id": "view-in-github",
        "colab_type": "text"
      },
      "source": [
        "<a href=\"https://colab.research.google.com/github/abhishek9039/ML-LAB/blob/main/Abhishek_Sharma_Neural_Network_Classification.ipynb\" target=\"_parent\"><img src=\"https://colab.research.google.com/assets/colab-badge.svg\" alt=\"Open In Colab\"/></a>"
      ]
    },
    {
      "cell_type": "markdown",
      "metadata": {
        "id": "nhPEM4IUoDKA"
      },
      "source": [
        "CO CST IMPLEMENTATION OF NEURAL NETWORK\n",
        "\n"
      ]
    },
    {
      "cell_type": "code",
      "source": [
        ""
      ],
      "metadata": {
        "id": "bDN6Un_6rAR9"
      },
      "execution_count": 49,
      "outputs": []
    },
    {
      "cell_type": "markdown",
      "metadata": {
        "id": "ZpJe0cAaoG98"
      },
      "source": [
        "# Tutorial 3: Neural Network Classification"
      ]
    },
    {
      "cell_type": "markdown",
      "metadata": {
        "id": "dIT7QrK2PwdM"
      },
      "source": [
        "Dataset: [Pima Indian Diabetes Dataset](https://data.world/data-society/pima-indians-diabetes-database#)\n",
        "\n",
        "This dataset is originally from the National Institute of Diabetes and Digestive and Kidney Diseases. The objective is to predict based on diagnostic measurements whether a patient has diabetes.\n",
        "\n",
        "Several constraints were placed on the selection of these instances from a larger database. In particular, all patients here are females at least 21 years old of Pima Indian heritage.\n",
        "\n",
        "Attributes of PIMA dataset:\n",
        "\n",
        "**Pregnancies**: Number of times pregnant\n",
        "\n",
        "**Glucose**: Plasma glucose concentration a 2 hours in an oral glucose tolerance test\n",
        "\n",
        "**BloodPressure**: Diastolic blood pressure (mm Hg)\n",
        "\n",
        "**SkinThickness**: Triceps skin fold thickness (mm)\n",
        "\n",
        "**Insulin**: 2-Hour serum insulin (mu U/ml)\n",
        "\n",
        "**BMI**: Body mass index (weight in kg/(height in m)^2)\n",
        "\n",
        "**DiabetesPedigreeFunction**: Diabetes pedigree function\n",
        "\n",
        "**Age**: Age (years)\n",
        "\n",
        "**Outcome**: Class variable (0 or 1)"
      ]
    },
    {
      "cell_type": "markdown",
      "metadata": {
        "id": "FIAgs3sTY712"
      },
      "source": [
        "**1. Mount the Google Drive**"
      ]
    },
    {
      "cell_type": "code",
      "metadata": {
        "id": "CrZg_G5MQ4L5",
        "colab": {
          "base_uri": "https://localhost:8080/"
        },
        "outputId": "09c3fede-b61b-4f30-8845-5a9a847506b9"
      },
      "source": [
        "from google.colab import drive\n",
        "drive.mount('/content/drive')"
      ],
      "execution_count": 50,
      "outputs": [
        {
          "output_type": "stream",
          "name": "stdout",
          "text": [
            "Drive already mounted at /content/drive; to attempt to forcibly remount, call drive.mount(\"/content/drive\", force_remount=True).\n"
          ]
        }
      ]
    },
    {
      "cell_type": "markdown",
      "metadata": {
        "id": "CqAhYoWHZAwg"
      },
      "source": [
        "**2. Move to the place where data resides**"
      ]
    },
    {
      "cell_type": "code",
      "metadata": {
        "colab": {
          "base_uri": "https://localhost:8080/"
        },
        "id": "TjgG_3CiP4eQ",
        "outputId": "12ddc7d8-4f19-4bad-f8fe-5ef857e9afa1"
      },
      "source": [
        "%cd /content/drive/MyDrive"
      ],
      "execution_count": 51,
      "outputs": [
        {
          "output_type": "stream",
          "name": "stdout",
          "text": [
            "/content/drive/MyDrive\n"
          ]
        }
      ]
    },
    {
      "cell_type": "code",
      "source": [
        "!ls"
      ],
      "metadata": {
        "id": "S-KhHH_xATY8",
        "colab": {
          "base_uri": "https://localhost:8080/"
        },
        "outputId": "b4e32f72-c9bd-42d3-ec67-7b5497acf770"
      },
      "execution_count": 52,
      "outputs": [
        {
          "output_type": "stream",
          "name": "stdout",
          "text": [
            "'0827CT191003_linux_lab_work(3).docx'\n",
            " 0827CT191003.pdf\n",
            " 0827CT191003.png\n",
            "'3 6 20'\n",
            "'Abhishek Sharma (0827CT191003).pdf'\n",
            "'ABHISHEK SHARMA ( 0827CT191003).pdf'\n",
            "'Abhishek sharma (9039180217).pdf'\n",
            "'Abhishek Sharma CT-03 ADA assignment.docx'\n",
            "'Abhishek Sharma(CT 03 ).pdf'\n",
            "'Abhishek Sharma CT-03 TOC Lab Manual (2).gdoc'\n",
            "'Abhishek Sharma CT-03 TOC Lab Manual.gdoc'\n",
            "'Abhishek Sharma dbms (ct-03).gdoc'\n",
            "'abhisheksharma_ introduction to cloud.pdf'\n",
            "'Abhishek Sharma IWT assig-2021'\n",
            "'Abhishek Sharma linux assigment CT-03.gdoc'\n",
            " abhisheksharma_python.pdf\n",
            "'abstract alexa (1).txt'\n",
            "'abstract alexa (2).txt'\n",
            "'abstract alexa.txt'\n",
            "'AITR - Code Chef Ids of 3rd Year.xlsx'\n",
            "'Alexa  (1).png'\n",
            "'Alexa  (2).png'\n",
            "'Alexa .png'\n",
            "'Alexa skill link (1).txt'\n",
            "'Alexa skill link.txt'\n",
            " Classroom\n",
            "'Colab Notebooks'\n",
            "'COMPUTER  WORKSHOP ASSIGNMENT.docx'\n",
            "'COMPUTER WORKSHOP PRACTICALS.docx'\n",
            "'Copy of dataset1 (1).csv'\n",
            "'Copy of Format of Synopsis.gdoc'\n",
            " custom_trainvalacc.png\n",
            " custom_trainvalloss.png\n",
            "'cyber 03'\n",
            " Cybersecurity_Foundation_Student_Certificate.pdf\n",
            "'dataset1 (1).csv'\n",
            " diabetes.csv\n",
            " diabetes.gsheet\n",
            "'DS File-CT-48.pdf'\n",
            "'Face Detection Security System (G-19) final.rtf'\n",
            "'Format of Synopsis (1).gdoc'\n",
            "'Format of Synopsis (2).gdoc'\n",
            "'Format of Synopsis.gdoc'\n",
            "'Getting started.pdf'\n",
            "'I just completed the Internet of Things   course on Edapt. Get the app here https:  linktr.ee edapt.me'\n",
            "'I just completed the Solar Energy course on Edapt. Get the app here https:  linktr.ee edapt.me'\n",
            "'I just completed the Space Exploration course on Edapt. Get the app here https:  linktr.ee edapt.me'\n",
            "'IMG_20190709_113434 (1).jpg'\n",
            " IMG_20190709_113434.jpg\n",
            " IMG_20190709_113509.jpg\n",
            " IMG_20190709_113518.jpg\n",
            " IMG_20210831_143346.jpg\n",
            " Linear_Regression_Sklearn.ipynb\n",
            " LinearRegression_with_csv.ipynb\n",
            "'linux assigmentCT-03 Abhishek Sharma.gdoc'\n",
            "' linux assigment CT-03.docx'\n",
            "' linux assigment CT-03.gdoc'\n",
            "'linux assigment CT-24.gdoc'\n",
            "'Linux _Lab-CS505 File Format.gdoc'\n",
            " List_comprehension_1.ipynb\n",
            " MINOR_PROJECT_SYNOPSIS.docx\n",
            " MINOR_PROJECT_SYNOPSIS.gdoc\n",
            " petrol_consumption.csv\n",
            "'python lab manual Abhishek Sharma (CT- 03).gdoc'\n",
            "'python lab manual main.pdf'\n",
            "'Screenshot_20210427_112840 (1).png'\n",
            " Screenshot_20210427_112840.png\n",
            " Screenshot_20210506_151000.png\n",
            " Screenshot_20210506_151040.png\n",
            " Screenshot_20210529_115617.jpg\n",
            " Screenshot_20210529_115852.png\n",
            " Screenshot_20210529_121459.jpg\n",
            " Screenshot_20210529_142710.jpg\n",
            " Screenshot_20210724_151057.jpg\n",
            " Screenshot_20210811_103138.jpg\n",
            " Screenshot_20210811_105055.jpg\n",
            " Screenshot_20211004_164804.jpg\n",
            "'Screenshot (8).png'\n",
            "'Trailhead SS.png'\n",
            " Webinar\n"
          ]
        }
      ]
    },
    {
      "cell_type": "code",
      "source": [
        ""
      ],
      "metadata": {
        "id": "f65jHMx2I_1O"
      },
      "execution_count": 52,
      "outputs": []
    },
    {
      "cell_type": "markdown",
      "metadata": {
        "id": "VKvfswsOZLUB"
      },
      "source": [
        "**3. Read the dataset from CSV file**"
      ]
    },
    {
      "cell_type": "code",
      "metadata": {
        "colab": {
          "base_uri": "https://localhost:8080/",
          "height": 363
        },
        "id": "32nNonRSSaQq",
        "outputId": "124b823d-5d86-4728-cea4-b1c863c05f63"
      },
      "source": [
        "import pandas as pd\n",
        "data = pd.read_csv('diabetes.csv')\n",
        "data.head(10)"
      ],
      "execution_count": 53,
      "outputs": [
        {
          "output_type": "execute_result",
          "data": {
            "text/plain": [
              "   Pregnancies  Glucose  BloodPressure  SkinThickness  Insulin   BMI  \\\n",
              "0            6      148             72             35        0  33.6   \n",
              "1            1       85             66             29        0  26.6   \n",
              "2            8      183             64              0        0  23.3   \n",
              "3            1       89             66             23       94  28.1   \n",
              "4            0      137             40             35      168  43.1   \n",
              "5            5      116             74              0        0  25.6   \n",
              "6            3       78             50             32       88  31.0   \n",
              "7           10      115              0              0        0  35.3   \n",
              "8            2      197             70             45      543  30.5   \n",
              "9            8      125             96              0        0   0.0   \n",
              "\n",
              "   DiabetesPedigreeFunction  Age  Outcome  \n",
              "0                     0.627   50        1  \n",
              "1                     0.351   31        0  \n",
              "2                     0.672   32        1  \n",
              "3                     0.167   21        0  \n",
              "4                     2.288   33        1  \n",
              "5                     0.201   30        0  \n",
              "6                     0.248   26        1  \n",
              "7                     0.134   29        0  \n",
              "8                     0.158   53        1  \n",
              "9                     0.232   54        1  "
            ],
            "text/html": [
              "\n",
              "  <div id=\"df-c1a511ae-b1ab-4723-9d28-6d9e09d6e9ea\">\n",
              "    <div class=\"colab-df-container\">\n",
              "      <div>\n",
              "<style scoped>\n",
              "    .dataframe tbody tr th:only-of-type {\n",
              "        vertical-align: middle;\n",
              "    }\n",
              "\n",
              "    .dataframe tbody tr th {\n",
              "        vertical-align: top;\n",
              "    }\n",
              "\n",
              "    .dataframe thead th {\n",
              "        text-align: right;\n",
              "    }\n",
              "</style>\n",
              "<table border=\"1\" class=\"dataframe\">\n",
              "  <thead>\n",
              "    <tr style=\"text-align: right;\">\n",
              "      <th></th>\n",
              "      <th>Pregnancies</th>\n",
              "      <th>Glucose</th>\n",
              "      <th>BloodPressure</th>\n",
              "      <th>SkinThickness</th>\n",
              "      <th>Insulin</th>\n",
              "      <th>BMI</th>\n",
              "      <th>DiabetesPedigreeFunction</th>\n",
              "      <th>Age</th>\n",
              "      <th>Outcome</th>\n",
              "    </tr>\n",
              "  </thead>\n",
              "  <tbody>\n",
              "    <tr>\n",
              "      <th>0</th>\n",
              "      <td>6</td>\n",
              "      <td>148</td>\n",
              "      <td>72</td>\n",
              "      <td>35</td>\n",
              "      <td>0</td>\n",
              "      <td>33.6</td>\n",
              "      <td>0.627</td>\n",
              "      <td>50</td>\n",
              "      <td>1</td>\n",
              "    </tr>\n",
              "    <tr>\n",
              "      <th>1</th>\n",
              "      <td>1</td>\n",
              "      <td>85</td>\n",
              "      <td>66</td>\n",
              "      <td>29</td>\n",
              "      <td>0</td>\n",
              "      <td>26.6</td>\n",
              "      <td>0.351</td>\n",
              "      <td>31</td>\n",
              "      <td>0</td>\n",
              "    </tr>\n",
              "    <tr>\n",
              "      <th>2</th>\n",
              "      <td>8</td>\n",
              "      <td>183</td>\n",
              "      <td>64</td>\n",
              "      <td>0</td>\n",
              "      <td>0</td>\n",
              "      <td>23.3</td>\n",
              "      <td>0.672</td>\n",
              "      <td>32</td>\n",
              "      <td>1</td>\n",
              "    </tr>\n",
              "    <tr>\n",
              "      <th>3</th>\n",
              "      <td>1</td>\n",
              "      <td>89</td>\n",
              "      <td>66</td>\n",
              "      <td>23</td>\n",
              "      <td>94</td>\n",
              "      <td>28.1</td>\n",
              "      <td>0.167</td>\n",
              "      <td>21</td>\n",
              "      <td>0</td>\n",
              "    </tr>\n",
              "    <tr>\n",
              "      <th>4</th>\n",
              "      <td>0</td>\n",
              "      <td>137</td>\n",
              "      <td>40</td>\n",
              "      <td>35</td>\n",
              "      <td>168</td>\n",
              "      <td>43.1</td>\n",
              "      <td>2.288</td>\n",
              "      <td>33</td>\n",
              "      <td>1</td>\n",
              "    </tr>\n",
              "    <tr>\n",
              "      <th>5</th>\n",
              "      <td>5</td>\n",
              "      <td>116</td>\n",
              "      <td>74</td>\n",
              "      <td>0</td>\n",
              "      <td>0</td>\n",
              "      <td>25.6</td>\n",
              "      <td>0.201</td>\n",
              "      <td>30</td>\n",
              "      <td>0</td>\n",
              "    </tr>\n",
              "    <tr>\n",
              "      <th>6</th>\n",
              "      <td>3</td>\n",
              "      <td>78</td>\n",
              "      <td>50</td>\n",
              "      <td>32</td>\n",
              "      <td>88</td>\n",
              "      <td>31.0</td>\n",
              "      <td>0.248</td>\n",
              "      <td>26</td>\n",
              "      <td>1</td>\n",
              "    </tr>\n",
              "    <tr>\n",
              "      <th>7</th>\n",
              "      <td>10</td>\n",
              "      <td>115</td>\n",
              "      <td>0</td>\n",
              "      <td>0</td>\n",
              "      <td>0</td>\n",
              "      <td>35.3</td>\n",
              "      <td>0.134</td>\n",
              "      <td>29</td>\n",
              "      <td>0</td>\n",
              "    </tr>\n",
              "    <tr>\n",
              "      <th>8</th>\n",
              "      <td>2</td>\n",
              "      <td>197</td>\n",
              "      <td>70</td>\n",
              "      <td>45</td>\n",
              "      <td>543</td>\n",
              "      <td>30.5</td>\n",
              "      <td>0.158</td>\n",
              "      <td>53</td>\n",
              "      <td>1</td>\n",
              "    </tr>\n",
              "    <tr>\n",
              "      <th>9</th>\n",
              "      <td>8</td>\n",
              "      <td>125</td>\n",
              "      <td>96</td>\n",
              "      <td>0</td>\n",
              "      <td>0</td>\n",
              "      <td>0.0</td>\n",
              "      <td>0.232</td>\n",
              "      <td>54</td>\n",
              "      <td>1</td>\n",
              "    </tr>\n",
              "  </tbody>\n",
              "</table>\n",
              "</div>\n",
              "      <button class=\"colab-df-convert\" onclick=\"convertToInteractive('df-c1a511ae-b1ab-4723-9d28-6d9e09d6e9ea')\"\n",
              "              title=\"Convert this dataframe to an interactive table.\"\n",
              "              style=\"display:none;\">\n",
              "        \n",
              "  <svg xmlns=\"http://www.w3.org/2000/svg\" height=\"24px\"viewBox=\"0 0 24 24\"\n",
              "       width=\"24px\">\n",
              "    <path d=\"M0 0h24v24H0V0z\" fill=\"none\"/>\n",
              "    <path d=\"M18.56 5.44l.94 2.06.94-2.06 2.06-.94-2.06-.94-.94-2.06-.94 2.06-2.06.94zm-11 1L8.5 8.5l.94-2.06 2.06-.94-2.06-.94L8.5 2.5l-.94 2.06-2.06.94zm10 10l.94 2.06.94-2.06 2.06-.94-2.06-.94-.94-2.06-.94 2.06-2.06.94z\"/><path d=\"M17.41 7.96l-1.37-1.37c-.4-.4-.92-.59-1.43-.59-.52 0-1.04.2-1.43.59L10.3 9.45l-7.72 7.72c-.78.78-.78 2.05 0 2.83L4 21.41c.39.39.9.59 1.41.59.51 0 1.02-.2 1.41-.59l7.78-7.78 2.81-2.81c.8-.78.8-2.07 0-2.86zM5.41 20L4 18.59l7.72-7.72 1.47 1.35L5.41 20z\"/>\n",
              "  </svg>\n",
              "      </button>\n",
              "      \n",
              "  <style>\n",
              "    .colab-df-container {\n",
              "      display:flex;\n",
              "      flex-wrap:wrap;\n",
              "      gap: 12px;\n",
              "    }\n",
              "\n",
              "    .colab-df-convert {\n",
              "      background-color: #E8F0FE;\n",
              "      border: none;\n",
              "      border-radius: 50%;\n",
              "      cursor: pointer;\n",
              "      display: none;\n",
              "      fill: #1967D2;\n",
              "      height: 32px;\n",
              "      padding: 0 0 0 0;\n",
              "      width: 32px;\n",
              "    }\n",
              "\n",
              "    .colab-df-convert:hover {\n",
              "      background-color: #E2EBFA;\n",
              "      box-shadow: 0px 1px 2px rgba(60, 64, 67, 0.3), 0px 1px 3px 1px rgba(60, 64, 67, 0.15);\n",
              "      fill: #174EA6;\n",
              "    }\n",
              "\n",
              "    [theme=dark] .colab-df-convert {\n",
              "      background-color: #3B4455;\n",
              "      fill: #D2E3FC;\n",
              "    }\n",
              "\n",
              "    [theme=dark] .colab-df-convert:hover {\n",
              "      background-color: #434B5C;\n",
              "      box-shadow: 0px 1px 3px 1px rgba(0, 0, 0, 0.15);\n",
              "      filter: drop-shadow(0px 1px 2px rgba(0, 0, 0, 0.3));\n",
              "      fill: #FFFFFF;\n",
              "    }\n",
              "  </style>\n",
              "\n",
              "      <script>\n",
              "        const buttonEl =\n",
              "          document.querySelector('#df-c1a511ae-b1ab-4723-9d28-6d9e09d6e9ea button.colab-df-convert');\n",
              "        buttonEl.style.display =\n",
              "          google.colab.kernel.accessAllowed ? 'block' : 'none';\n",
              "\n",
              "        async function convertToInteractive(key) {\n",
              "          const element = document.querySelector('#df-c1a511ae-b1ab-4723-9d28-6d9e09d6e9ea');\n",
              "          const dataTable =\n",
              "            await google.colab.kernel.invokeFunction('convertToInteractive',\n",
              "                                                     [key], {});\n",
              "          if (!dataTable) return;\n",
              "\n",
              "          const docLinkHtml = 'Like what you see? Visit the ' +\n",
              "            '<a target=\"_blank\" href=https://colab.research.google.com/notebooks/data_table.ipynb>data table notebook</a>'\n",
              "            + ' to learn more about interactive tables.';\n",
              "          element.innerHTML = '';\n",
              "          dataTable['output_type'] = 'display_data';\n",
              "          await google.colab.output.renderOutput(dataTable, element);\n",
              "          const docLink = document.createElement('div');\n",
              "          docLink.innerHTML = docLinkHtml;\n",
              "          element.appendChild(docLink);\n",
              "        }\n",
              "      </script>\n",
              "    </div>\n",
              "  </div>\n",
              "  "
            ]
          },
          "metadata": {},
          "execution_count": 53
        }
      ]
    },
    {
      "cell_type": "code",
      "metadata": {
        "colab": {
          "base_uri": "https://localhost:8080/"
        },
        "id": "ZrslDLESShr7",
        "outputId": "a8d15d03-cf94-4413-9fae-85130d5555c1"
      },
      "source": [
        "data.columns"
      ],
      "execution_count": 54,
      "outputs": [
        {
          "output_type": "execute_result",
          "data": {
            "text/plain": [
              "Index(['Pregnancies', 'Glucose', 'BloodPressure', 'SkinThickness', 'Insulin',\n",
              "       'BMI', 'DiabetesPedigreeFunction', 'Age', 'Outcome'],\n",
              "      dtype='object')"
            ]
          },
          "metadata": {},
          "execution_count": 54
        }
      ]
    },
    {
      "cell_type": "code",
      "metadata": {
        "colab": {
          "base_uri": "https://localhost:8080/"
        },
        "id": "BLElehZ-Skgq",
        "outputId": "f265cd8a-537d-456e-80de-5b900ab361af"
      },
      "source": [
        "data.values"
      ],
      "execution_count": 55,
      "outputs": [
        {
          "output_type": "execute_result",
          "data": {
            "text/plain": [
              "array([[  6.   , 148.   ,  72.   , ...,   0.627,  50.   ,   1.   ],\n",
              "       [  1.   ,  85.   ,  66.   , ...,   0.351,  31.   ,   0.   ],\n",
              "       [  8.   , 183.   ,  64.   , ...,   0.672,  32.   ,   1.   ],\n",
              "       ...,\n",
              "       [  5.   , 121.   ,  72.   , ...,   0.245,  30.   ,   0.   ],\n",
              "       [  1.   , 126.   ,  60.   , ...,   0.349,  47.   ,   1.   ],\n",
              "       [  1.   ,  93.   ,  70.   , ...,   0.315,  23.   ,   0.   ]])"
            ]
          },
          "metadata": {},
          "execution_count": 55
        }
      ]
    },
    {
      "cell_type": "markdown",
      "metadata": {
        "id": "2HnZxGc4ZQlf"
      },
      "source": [
        "**4. Store the data into input feature and label variables**"
      ]
    },
    {
      "cell_type": "code",
      "metadata": {
        "colab": {
          "base_uri": "https://localhost:8080/"
        },
        "id": "IPfA5BF0Sm4R",
        "outputId": "f752060b-84f5-4896-80d3-84494da44d75"
      },
      "source": [
        "dataset= data.values\n",
        "X = dataset[:,0:8]\n",
        "Y = dataset[:,8]\n",
        "print(X)\n",
        "print(Y)"
      ],
      "execution_count": 56,
      "outputs": [
        {
          "output_type": "stream",
          "name": "stdout",
          "text": [
            "[[  6.    148.     72.    ...  33.6     0.627  50.   ]\n",
            " [  1.     85.     66.    ...  26.6     0.351  31.   ]\n",
            " [  8.    183.     64.    ...  23.3     0.672  32.   ]\n",
            " ...\n",
            " [  5.    121.     72.    ...  26.2     0.245  30.   ]\n",
            " [  1.    126.     60.    ...  30.1     0.349  47.   ]\n",
            " [  1.     93.     70.    ...  30.4     0.315  23.   ]]\n",
            "[1. 0. 1. 0. 1. 0. 1. 0. 1. 1. 0. 1. 0. 1. 1. 1. 1. 1. 0. 1. 0. 0. 1. 1.\n",
            " 1. 1. 1. 0. 0. 0. 0. 1. 0. 0. 0. 0. 0. 1. 1. 1. 0. 0. 0. 1. 0. 1. 0. 0.\n",
            " 1. 0. 0. 0. 0. 1. 0. 0. 1. 0. 0. 0. 0. 1. 0. 0. 1. 0. 1. 0. 0. 0. 1. 0.\n",
            " 1. 0. 0. 0. 0. 0. 1. 0. 0. 0. 0. 0. 1. 0. 0. 0. 1. 0. 0. 0. 0. 1. 0. 0.\n",
            " 0. 0. 0. 1. 1. 0. 0. 0. 0. 0. 0. 0. 0. 1. 1. 1. 0. 0. 1. 1. 1. 0. 0. 0.\n",
            " 1. 0. 0. 0. 1. 1. 0. 0. 1. 1. 1. 1. 1. 0. 0. 0. 0. 0. 0. 0. 0. 0. 0. 1.\n",
            " 0. 0. 0. 0. 0. 0. 0. 0. 1. 0. 1. 1. 0. 0. 0. 1. 0. 0. 0. 0. 1. 1. 0. 0.\n",
            " 0. 0. 1. 1. 0. 0. 0. 1. 0. 1. 0. 1. 0. 0. 0. 0. 0. 1. 1. 1. 1. 1. 0. 0.\n",
            " 1. 1. 0. 1. 0. 1. 1. 1. 0. 0. 0. 0. 0. 0. 1. 1. 0. 1. 0. 0. 0. 1. 1. 1.\n",
            " 1. 0. 1. 1. 1. 1. 0. 0. 0. 0. 0. 1. 0. 0. 1. 1. 0. 0. 0. 1. 1. 1. 1. 0.\n",
            " 0. 0. 1. 1. 0. 1. 0. 0. 0. 0. 0. 0. 0. 0. 1. 1. 0. 0. 0. 1. 0. 1. 0. 0.\n",
            " 1. 0. 1. 0. 0. 1. 1. 0. 0. 0. 0. 0. 1. 0. 0. 0. 1. 0. 0. 1. 1. 0. 0. 1.\n",
            " 0. 0. 0. 1. 1. 1. 0. 0. 1. 0. 1. 0. 1. 1. 0. 1. 0. 0. 1. 0. 1. 1. 0. 0.\n",
            " 1. 0. 1. 0. 0. 1. 0. 1. 0. 1. 1. 1. 0. 0. 1. 0. 1. 0. 0. 0. 1. 0. 0. 0.\n",
            " 0. 1. 1. 1. 0. 0. 0. 0. 0. 0. 0. 0. 0. 1. 0. 0. 0. 0. 0. 1. 1. 1. 0. 1.\n",
            " 1. 0. 0. 1. 0. 0. 1. 0. 0. 1. 1. 0. 0. 0. 0. 1. 0. 0. 1. 0. 0. 0. 0. 0.\n",
            " 0. 0. 1. 1. 1. 0. 0. 1. 0. 0. 1. 0. 0. 1. 0. 1. 1. 0. 1. 0. 1. 0. 1. 0.\n",
            " 1. 1. 0. 0. 0. 0. 1. 1. 0. 1. 0. 1. 0. 0. 0. 0. 1. 1. 0. 1. 0. 1. 0. 0.\n",
            " 0. 0. 0. 1. 0. 0. 0. 0. 1. 0. 0. 1. 1. 1. 0. 0. 1. 0. 0. 1. 0. 0. 0. 1.\n",
            " 0. 0. 1. 0. 0. 0. 0. 0. 0. 0. 0. 0. 1. 0. 0. 0. 0. 0. 0. 0. 1. 0. 0. 0.\n",
            " 1. 0. 0. 0. 1. 1. 0. 0. 0. 0. 0. 0. 0. 1. 0. 0. 0. 0. 1. 0. 0. 0. 1. 0.\n",
            " 0. 0. 1. 0. 0. 0. 1. 0. 0. 0. 0. 1. 1. 0. 0. 0. 0. 0. 0. 1. 0. 0. 0. 0.\n",
            " 0. 0. 0. 0. 0. 0. 0. 1. 0. 0. 0. 1. 1. 1. 1. 0. 0. 1. 1. 0. 0. 0. 0. 0.\n",
            " 0. 0. 0. 0. 0. 0. 0. 0. 1. 1. 0. 0. 0. 0. 0. 0. 0. 1. 0. 0. 0. 0. 0. 0.\n",
            " 0. 1. 0. 1. 1. 0. 0. 0. 1. 0. 1. 0. 1. 0. 1. 0. 1. 0. 0. 1. 0. 0. 1. 0.\n",
            " 0. 0. 0. 1. 1. 0. 1. 0. 0. 0. 0. 1. 1. 0. 1. 0. 0. 0. 1. 1. 0. 0. 0. 0.\n",
            " 0. 0. 0. 0. 0. 0. 1. 0. 0. 0. 0. 1. 0. 0. 1. 0. 0. 0. 1. 0. 0. 0. 1. 1.\n",
            " 1. 0. 0. 0. 0. 0. 0. 1. 0. 0. 0. 1. 0. 1. 1. 1. 1. 0. 1. 1. 0. 0. 0. 0.\n",
            " 0. 0. 0. 1. 1. 0. 1. 0. 0. 1. 0. 1. 0. 0. 0. 0. 0. 1. 0. 1. 0. 1. 0. 1.\n",
            " 1. 0. 0. 0. 0. 1. 1. 0. 0. 0. 1. 0. 1. 1. 0. 0. 1. 0. 0. 1. 1. 0. 0. 1.\n",
            " 0. 0. 1. 0. 0. 0. 0. 0. 0. 0. 1. 1. 1. 0. 0. 0. 0. 0. 0. 1. 1. 0. 0. 1.\n",
            " 0. 0. 1. 0. 1. 1. 1. 0. 0. 1. 1. 1. 0. 1. 0. 1. 0. 1. 0. 0. 0. 0. 1. 0.]\n"
          ]
        }
      ]
    },
    {
      "cell_type": "markdown",
      "metadata": {
        "id": "OdPZerNUZV4Q"
      },
      "source": [
        "**5. Data Normalization**"
      ]
    },
    {
      "cell_type": "code",
      "metadata": {
        "colab": {
          "base_uri": "https://localhost:8080/"
        },
        "id": "pM4g3T1fWri-",
        "outputId": "dd29e670-2c79-4f7f-8b65-a86101c34ab6"
      },
      "source": [
        "from sklearn import preprocessing\n",
        "min_max_scaler = preprocessing.MinMaxScaler()\n",
        "X_scale = min_max_scaler.fit_transform(X)\n",
        "X_scale"
      ],
      "execution_count": 57,
      "outputs": [
        {
          "output_type": "execute_result",
          "data": {
            "text/plain": [
              "array([[0.35294118, 0.74371859, 0.59016393, ..., 0.50074516, 0.23441503,\n",
              "        0.48333333],\n",
              "       [0.05882353, 0.42713568, 0.54098361, ..., 0.39642325, 0.11656704,\n",
              "        0.16666667],\n",
              "       [0.47058824, 0.91959799, 0.52459016, ..., 0.34724292, 0.25362938,\n",
              "        0.18333333],\n",
              "       ...,\n",
              "       [0.29411765, 0.6080402 , 0.59016393, ..., 0.390462  , 0.07130658,\n",
              "        0.15      ],\n",
              "       [0.05882353, 0.63316583, 0.49180328, ..., 0.4485842 , 0.11571307,\n",
              "        0.43333333],\n",
              "       [0.05882353, 0.46733668, 0.57377049, ..., 0.45305514, 0.10119556,\n",
              "        0.03333333]])"
            ]
          },
          "metadata": {},
          "execution_count": 57
        }
      ]
    },
    {
      "cell_type": "markdown",
      "metadata": {
        "id": "n1B5x8C0ZY-e"
      },
      "source": [
        "**6. One-hot vector conversion**"
      ]
    },
    {
      "cell_type": "code",
      "metadata": {
        "colab": {
          "base_uri": "https://localhost:8080/"
        },
        "id": "IWPUAnA-XNd8",
        "outputId": "f1984d4c-b813-42d1-ca45-7e727c65d5a2"
      },
      "source": [
        "from keras.utils import np_utils\n",
        "encoded_y = np_utils.to_categorical(Y)\n",
        "encoded_y"
      ],
      "execution_count": 58,
      "outputs": [
        {
          "output_type": "execute_result",
          "data": {
            "text/plain": [
              "array([[0., 1.],\n",
              "       [1., 0.],\n",
              "       [0., 1.],\n",
              "       ...,\n",
              "       [1., 0.],\n",
              "       [0., 1.],\n",
              "       [1., 0.]], dtype=float32)"
            ]
          },
          "metadata": {},
          "execution_count": 58
        }
      ]
    },
    {
      "cell_type": "markdown",
      "metadata": {
        "id": "IeJWmMxjZbgo"
      },
      "source": [
        "**7. Split the dataset into training, testing and validation set**"
      ]
    },
    {
      "cell_type": "code",
      "metadata": {
        "colab": {
          "base_uri": "https://localhost:8080/"
        },
        "id": "3BqXnV1FXYIV",
        "outputId": "843d9689-4656-41a2-8def-4737e2a4d4c6"
      },
      "source": [
        "from sklearn.model_selection import train_test_split\n",
        "X_training, X_testing, Y_training, Y_testing = train_test_split(X_scale, encoded_y, test_size=0.4, random_state=20)\n",
        "X_training, X_valid, Y_training, Y_valid = train_test_split(X_training, Y_training, test_size=0.4, random_state=20)\n",
        "print(len(X_training))\n",
        "print(len(X_testing))\n",
        "print(len(X_valid))"
      ],
      "execution_count": 59,
      "outputs": [
        {
          "output_type": "stream",
          "name": "stdout",
          "text": [
            "276\n",
            "308\n",
            "184\n"
          ]
        }
      ]
    },
    {
      "cell_type": "markdown",
      "metadata": {
        "id": "EH9IZizVZfKB"
      },
      "source": [
        "**8. Model Creation**"
      ]
    },
    {
      "cell_type": "code",
      "metadata": {
        "id": "hNfmvbMOXeku",
        "colab": {
          "base_uri": "https://localhost:8080/"
        },
        "outputId": "7c081ca8-b3e2-4ef3-f694-93bafd0b4db4"
      },
      "source": [
        "from keras.models import Sequential\n",
        "from keras.layers import Dense\n",
        "\n",
        "# Creating the model\n",
        "model = Sequential()\n",
        "model.add(Dense(26, input_shape=(8,), activation='relu'))\n",
        "model.add(Dense(28, activation='relu'))\n",
        "model.add(Dense(10, activation='tanh'))\n",
        "model.add(Dense(4, activation='relu'))\n",
        "model.add(Dense(2, activation='softmax'))\n",
        "model.summary()   #gives a summary of the model"
      ],
      "execution_count": 60,
      "outputs": [
        {
          "output_type": "stream",
          "name": "stdout",
          "text": [
            "Model: \"sequential_6\"\n",
            "_________________________________________________________________\n",
            " Layer (type)                Output Shape              Param #   \n",
            "=================================================================\n",
            " dense_30 (Dense)            (None, 26)                234       \n",
            "                                                                 \n",
            " dense_31 (Dense)            (None, 28)                756       \n",
            "                                                                 \n",
            " dense_32 (Dense)            (None, 10)                290       \n",
            "                                                                 \n",
            " dense_33 (Dense)            (None, 4)                 44        \n",
            "                                                                 \n",
            " dense_34 (Dense)            (None, 2)                 10        \n",
            "                                                                 \n",
            "=================================================================\n",
            "Total params: 1,334\n",
            "Trainable params: 1,334\n",
            "Non-trainable params: 0\n",
            "_________________________________________________________________\n"
          ]
        }
      ]
    },
    {
      "cell_type": "markdown",
      "metadata": {
        "id": "iYxZHI_EZiEF"
      },
      "source": [
        "**9. Model Compile**"
      ]
    },
    {
      "cell_type": "code",
      "metadata": {
        "id": "plF2qlxwXiIY"
      },
      "source": [
        "from tensorflow.keras import optimizers\n",
        "opt=optimizers.SGD(learning_rate=0.01)\n",
        "model.compile(loss='categorical_crossentropy', optimizer=opt, metrics=['accuracy'])"
      ],
      "execution_count": 61,
      "outputs": []
    },
    {
      "cell_type": "markdown",
      "metadata": {
        "id": "E8VrUFVQZkNd"
      },
      "source": [
        "**10. Model Training**"
      ]
    },
    {
      "cell_type": "markdown",
      "source": [
        "if you have 1000 training examples, and your batch size is  500, then it will take 2 iterations to complete 1 epoch."
      ],
      "metadata": {
        "id": "08Ul5lN90_Sp"
      }
    },
    {
      "cell_type": "code",
      "metadata": {
        "colab": {
          "base_uri": "https://localhost:8080/"
        },
        "id": "xhDZ8yPhXrs0",
        "outputId": "c86f7bf8-87e2-4de3-af34-d98a71f69d21"
      },
      "source": [
        "hist = model.fit(X_training, Y_training,batch_size=4,  epochs=100, validation_data=(X_valid,Y_valid))"
      ],
      "execution_count": 62,
      "outputs": [
        {
          "output_type": "stream",
          "name": "stdout",
          "text": [
            "Epoch 1/100\n",
            "69/69 [==============================] - 1s 5ms/step - loss: 0.6529 - accuracy: 0.6594 - val_loss: 0.6681 - val_accuracy: 0.6087\n",
            "Epoch 2/100\n",
            "69/69 [==============================] - 0s 3ms/step - loss: 0.6276 - accuracy: 0.6739 - val_loss: 0.6519 - val_accuracy: 0.6087\n",
            "Epoch 3/100\n",
            "69/69 [==============================] - 0s 3ms/step - loss: 0.6165 - accuracy: 0.6739 - val_loss: 0.6465 - val_accuracy: 0.6087\n",
            "Epoch 4/100\n",
            "69/69 [==============================] - 0s 4ms/step - loss: 0.5994 - accuracy: 0.6739 - val_loss: 0.6573 - val_accuracy: 0.6087\n",
            "Epoch 5/100\n",
            "69/69 [==============================] - 0s 3ms/step - loss: 0.5870 - accuracy: 0.6848 - val_loss: 0.6095 - val_accuracy: 0.6304\n",
            "Epoch 6/100\n",
            "69/69 [==============================] - 0s 3ms/step - loss: 0.5667 - accuracy: 0.6957 - val_loss: 0.6533 - val_accuracy: 0.6033\n",
            "Epoch 7/100\n",
            "69/69 [==============================] - 0s 3ms/step - loss: 0.5602 - accuracy: 0.7138 - val_loss: 0.5844 - val_accuracy: 0.7011\n",
            "Epoch 8/100\n",
            "69/69 [==============================] - 0s 3ms/step - loss: 0.5429 - accuracy: 0.7428 - val_loss: 0.5706 - val_accuracy: 0.6957\n",
            "Epoch 9/100\n",
            "69/69 [==============================] - 0s 3ms/step - loss: 0.5247 - accuracy: 0.7355 - val_loss: 0.5592 - val_accuracy: 0.7337\n",
            "Epoch 10/100\n",
            "69/69 [==============================] - 0s 3ms/step - loss: 0.5202 - accuracy: 0.7500 - val_loss: 0.5507 - val_accuracy: 0.7283\n",
            "Epoch 11/100\n",
            "69/69 [==============================] - 0s 3ms/step - loss: 0.5098 - accuracy: 0.7428 - val_loss: 0.5446 - val_accuracy: 0.7337\n",
            "Epoch 12/100\n",
            "69/69 [==============================] - 0s 3ms/step - loss: 0.5011 - accuracy: 0.7754 - val_loss: 0.5353 - val_accuracy: 0.7446\n",
            "Epoch 13/100\n",
            "69/69 [==============================] - 0s 3ms/step - loss: 0.4747 - accuracy: 0.7971 - val_loss: 0.5456 - val_accuracy: 0.6957\n",
            "Epoch 14/100\n",
            "69/69 [==============================] - 0s 3ms/step - loss: 0.4898 - accuracy: 0.7536 - val_loss: 0.5597 - val_accuracy: 0.7065\n",
            "Epoch 15/100\n",
            "69/69 [==============================] - 0s 3ms/step - loss: 0.4792 - accuracy: 0.7826 - val_loss: 0.5266 - val_accuracy: 0.7500\n",
            "Epoch 16/100\n",
            "69/69 [==============================] - 0s 3ms/step - loss: 0.4757 - accuracy: 0.7862 - val_loss: 0.5281 - val_accuracy: 0.7391\n",
            "Epoch 17/100\n",
            "69/69 [==============================] - 0s 3ms/step - loss: 0.4683 - accuracy: 0.7935 - val_loss: 0.5211 - val_accuracy: 0.7500\n",
            "Epoch 18/100\n",
            "69/69 [==============================] - 0s 3ms/step - loss: 0.4613 - accuracy: 0.7971 - val_loss: 0.5840 - val_accuracy: 0.7011\n",
            "Epoch 19/100\n",
            "69/69 [==============================] - 0s 3ms/step - loss: 0.4624 - accuracy: 0.7754 - val_loss: 0.5289 - val_accuracy: 0.7391\n",
            "Epoch 20/100\n",
            "69/69 [==============================] - 0s 3ms/step - loss: 0.4675 - accuracy: 0.7754 - val_loss: 0.5397 - val_accuracy: 0.7228\n",
            "Epoch 21/100\n",
            "69/69 [==============================] - 0s 3ms/step - loss: 0.4596 - accuracy: 0.7826 - val_loss: 0.6416 - val_accuracy: 0.6848\n",
            "Epoch 22/100\n",
            "69/69 [==============================] - 0s 3ms/step - loss: 0.4609 - accuracy: 0.7899 - val_loss: 0.5317 - val_accuracy: 0.7283\n",
            "Epoch 23/100\n",
            "69/69 [==============================] - 0s 3ms/step - loss: 0.4503 - accuracy: 0.7971 - val_loss: 0.5287 - val_accuracy: 0.7283\n",
            "Epoch 24/100\n",
            "69/69 [==============================] - 0s 3ms/step - loss: 0.4522 - accuracy: 0.7862 - val_loss: 0.5310 - val_accuracy: 0.7228\n",
            "Epoch 25/100\n",
            "69/69 [==============================] - 0s 3ms/step - loss: 0.4390 - accuracy: 0.8116 - val_loss: 0.6364 - val_accuracy: 0.7011\n",
            "Epoch 26/100\n",
            "69/69 [==============================] - 0s 3ms/step - loss: 0.4469 - accuracy: 0.7754 - val_loss: 0.5526 - val_accuracy: 0.7446\n",
            "Epoch 27/100\n",
            "69/69 [==============================] - 0s 3ms/step - loss: 0.4532 - accuracy: 0.7971 - val_loss: 0.5484 - val_accuracy: 0.7228\n",
            "Epoch 28/100\n",
            "69/69 [==============================] - 0s 3ms/step - loss: 0.4456 - accuracy: 0.8007 - val_loss: 0.5415 - val_accuracy: 0.7391\n",
            "Epoch 29/100\n",
            "69/69 [==============================] - 0s 3ms/step - loss: 0.4456 - accuracy: 0.8116 - val_loss: 0.5238 - val_accuracy: 0.7500\n",
            "Epoch 30/100\n",
            "69/69 [==============================] - 0s 3ms/step - loss: 0.4388 - accuracy: 0.8152 - val_loss: 0.5229 - val_accuracy: 0.7446\n",
            "Epoch 31/100\n",
            "69/69 [==============================] - 0s 3ms/step - loss: 0.4531 - accuracy: 0.7790 - val_loss: 0.5270 - val_accuracy: 0.7283\n",
            "Epoch 32/100\n",
            "69/69 [==============================] - 0s 3ms/step - loss: 0.4403 - accuracy: 0.7899 - val_loss: 0.5309 - val_accuracy: 0.7337\n",
            "Epoch 33/100\n",
            "69/69 [==============================] - 0s 4ms/step - loss: 0.4357 - accuracy: 0.7826 - val_loss: 0.5675 - val_accuracy: 0.7120\n",
            "Epoch 34/100\n",
            "69/69 [==============================] - 0s 3ms/step - loss: 0.4431 - accuracy: 0.8043 - val_loss: 0.5713 - val_accuracy: 0.7174\n",
            "Epoch 35/100\n",
            "69/69 [==============================] - 0s 3ms/step - loss: 0.4359 - accuracy: 0.7790 - val_loss: 0.5233 - val_accuracy: 0.7337\n",
            "Epoch 36/100\n",
            "69/69 [==============================] - 0s 3ms/step - loss: 0.4395 - accuracy: 0.7971 - val_loss: 0.6060 - val_accuracy: 0.7065\n",
            "Epoch 37/100\n",
            "69/69 [==============================] - 0s 3ms/step - loss: 0.4458 - accuracy: 0.8080 - val_loss: 0.5300 - val_accuracy: 0.7554\n",
            "Epoch 38/100\n",
            "69/69 [==============================] - 0s 3ms/step - loss: 0.4432 - accuracy: 0.7862 - val_loss: 0.5315 - val_accuracy: 0.7500\n",
            "Epoch 39/100\n",
            "69/69 [==============================] - 0s 3ms/step - loss: 0.4406 - accuracy: 0.7971 - val_loss: 0.5947 - val_accuracy: 0.7174\n",
            "Epoch 40/100\n",
            "69/69 [==============================] - 0s 3ms/step - loss: 0.4236 - accuracy: 0.7899 - val_loss: 0.5351 - val_accuracy: 0.7391\n",
            "Epoch 41/100\n",
            "69/69 [==============================] - 0s 3ms/step - loss: 0.4447 - accuracy: 0.7826 - val_loss: 0.5333 - val_accuracy: 0.7554\n",
            "Epoch 42/100\n",
            "69/69 [==============================] - 0s 3ms/step - loss: 0.4229 - accuracy: 0.7971 - val_loss: 0.5450 - val_accuracy: 0.7554\n",
            "Epoch 43/100\n",
            "69/69 [==============================] - 0s 3ms/step - loss: 0.4302 - accuracy: 0.8043 - val_loss: 0.5283 - val_accuracy: 0.7391\n",
            "Epoch 44/100\n",
            "69/69 [==============================] - 0s 3ms/step - loss: 0.4283 - accuracy: 0.8080 - val_loss: 0.5248 - val_accuracy: 0.7228\n",
            "Epoch 45/100\n",
            "69/69 [==============================] - 0s 3ms/step - loss: 0.4307 - accuracy: 0.7935 - val_loss: 0.5989 - val_accuracy: 0.7228\n",
            "Epoch 46/100\n",
            "69/69 [==============================] - 0s 3ms/step - loss: 0.4222 - accuracy: 0.8007 - val_loss: 0.6880 - val_accuracy: 0.6739\n",
            "Epoch 47/100\n",
            "69/69 [==============================] - 0s 3ms/step - loss: 0.4227 - accuracy: 0.8043 - val_loss: 0.5566 - val_accuracy: 0.7500\n",
            "Epoch 48/100\n",
            "69/69 [==============================] - 0s 3ms/step - loss: 0.4323 - accuracy: 0.8080 - val_loss: 0.5299 - val_accuracy: 0.7283\n",
            "Epoch 49/100\n",
            "69/69 [==============================] - 0s 3ms/step - loss: 0.4243 - accuracy: 0.7935 - val_loss: 0.6967 - val_accuracy: 0.6739\n",
            "Epoch 50/100\n",
            "69/69 [==============================] - 0s 3ms/step - loss: 0.4346 - accuracy: 0.7971 - val_loss: 0.5346 - val_accuracy: 0.7446\n",
            "Epoch 51/100\n",
            "69/69 [==============================] - 0s 3ms/step - loss: 0.4355 - accuracy: 0.8116 - val_loss: 0.5472 - val_accuracy: 0.7228\n",
            "Epoch 52/100\n",
            "69/69 [==============================] - 0s 3ms/step - loss: 0.4191 - accuracy: 0.8152 - val_loss: 0.6383 - val_accuracy: 0.6793\n",
            "Epoch 53/100\n",
            "69/69 [==============================] - 0s 3ms/step - loss: 0.4305 - accuracy: 0.8043 - val_loss: 0.5544 - val_accuracy: 0.7228\n",
            "Epoch 54/100\n",
            "69/69 [==============================] - 0s 3ms/step - loss: 0.4292 - accuracy: 0.8152 - val_loss: 0.5549 - val_accuracy: 0.7228\n",
            "Epoch 55/100\n",
            "69/69 [==============================] - 0s 3ms/step - loss: 0.4109 - accuracy: 0.8080 - val_loss: 0.5813 - val_accuracy: 0.7283\n",
            "Epoch 56/100\n",
            "69/69 [==============================] - 0s 3ms/step - loss: 0.4308 - accuracy: 0.8080 - val_loss: 0.5595 - val_accuracy: 0.7337\n",
            "Epoch 57/100\n",
            "69/69 [==============================] - 0s 3ms/step - loss: 0.4275 - accuracy: 0.8007 - val_loss: 0.5339 - val_accuracy: 0.7174\n",
            "Epoch 58/100\n",
            "69/69 [==============================] - 0s 3ms/step - loss: 0.4187 - accuracy: 0.8007 - val_loss: 0.5433 - val_accuracy: 0.7283\n",
            "Epoch 59/100\n",
            "69/69 [==============================] - 0s 3ms/step - loss: 0.4181 - accuracy: 0.8188 - val_loss: 0.5499 - val_accuracy: 0.7283\n",
            "Epoch 60/100\n",
            "69/69 [==============================] - 0s 3ms/step - loss: 0.4138 - accuracy: 0.8261 - val_loss: 0.5488 - val_accuracy: 0.7337\n",
            "Epoch 61/100\n",
            "69/69 [==============================] - 0s 3ms/step - loss: 0.4136 - accuracy: 0.8261 - val_loss: 0.5834 - val_accuracy: 0.7283\n",
            "Epoch 62/100\n",
            "69/69 [==============================] - 0s 3ms/step - loss: 0.4248 - accuracy: 0.7935 - val_loss: 0.5377 - val_accuracy: 0.7174\n",
            "Epoch 63/100\n",
            "69/69 [==============================] - 0s 3ms/step - loss: 0.4168 - accuracy: 0.8188 - val_loss: 0.5354 - val_accuracy: 0.7228\n",
            "Epoch 64/100\n",
            "69/69 [==============================] - 0s 3ms/step - loss: 0.4115 - accuracy: 0.8007 - val_loss: 0.5353 - val_accuracy: 0.7228\n",
            "Epoch 65/100\n",
            "69/69 [==============================] - 0s 3ms/step - loss: 0.4184 - accuracy: 0.8152 - val_loss: 0.5675 - val_accuracy: 0.7337\n",
            "Epoch 66/100\n",
            "69/69 [==============================] - 0s 4ms/step - loss: 0.4106 - accuracy: 0.8080 - val_loss: 0.6676 - val_accuracy: 0.6793\n",
            "Epoch 67/100\n",
            "69/69 [==============================] - 0s 3ms/step - loss: 0.4281 - accuracy: 0.8007 - val_loss: 0.5579 - val_accuracy: 0.7228\n",
            "Epoch 68/100\n",
            "69/69 [==============================] - 0s 4ms/step - loss: 0.4239 - accuracy: 0.8261 - val_loss: 0.5365 - val_accuracy: 0.7174\n",
            "Epoch 69/100\n",
            "69/69 [==============================] - 0s 3ms/step - loss: 0.4145 - accuracy: 0.8152 - val_loss: 0.5679 - val_accuracy: 0.7174\n",
            "Epoch 70/100\n",
            "69/69 [==============================] - 0s 3ms/step - loss: 0.4146 - accuracy: 0.8152 - val_loss: 0.5504 - val_accuracy: 0.7283\n",
            "Epoch 71/100\n",
            "69/69 [==============================] - 0s 3ms/step - loss: 0.4038 - accuracy: 0.8152 - val_loss: 0.5492 - val_accuracy: 0.7120\n",
            "Epoch 72/100\n",
            "69/69 [==============================] - 0s 3ms/step - loss: 0.4149 - accuracy: 0.8152 - val_loss: 0.5765 - val_accuracy: 0.7283\n",
            "Epoch 73/100\n",
            "69/69 [==============================] - 0s 3ms/step - loss: 0.4116 - accuracy: 0.8043 - val_loss: 0.5606 - val_accuracy: 0.7120\n",
            "Epoch 74/100\n",
            "69/69 [==============================] - 0s 3ms/step - loss: 0.4109 - accuracy: 0.8152 - val_loss: 0.5534 - val_accuracy: 0.7174\n",
            "Epoch 75/100\n",
            "69/69 [==============================] - 0s 3ms/step - loss: 0.4025 - accuracy: 0.8043 - val_loss: 0.5741 - val_accuracy: 0.7391\n",
            "Epoch 76/100\n",
            "69/69 [==============================] - 0s 3ms/step - loss: 0.3983 - accuracy: 0.8152 - val_loss: 0.5396 - val_accuracy: 0.7174\n",
            "Epoch 77/100\n",
            "69/69 [==============================] - 0s 4ms/step - loss: 0.4035 - accuracy: 0.8043 - val_loss: 0.5358 - val_accuracy: 0.7283\n",
            "Epoch 78/100\n",
            "69/69 [==============================] - 0s 3ms/step - loss: 0.4119 - accuracy: 0.8188 - val_loss: 0.5368 - val_accuracy: 0.7283\n",
            "Epoch 79/100\n",
            "69/69 [==============================] - 0s 3ms/step - loss: 0.3948 - accuracy: 0.8261 - val_loss: 0.5551 - val_accuracy: 0.7228\n",
            "Epoch 80/100\n",
            "69/69 [==============================] - 0s 3ms/step - loss: 0.4137 - accuracy: 0.8116 - val_loss: 0.5404 - val_accuracy: 0.7174\n",
            "Epoch 81/100\n",
            "69/69 [==============================] - 0s 3ms/step - loss: 0.4175 - accuracy: 0.8261 - val_loss: 0.5827 - val_accuracy: 0.7283\n",
            "Epoch 82/100\n",
            "69/69 [==============================] - 0s 3ms/step - loss: 0.4001 - accuracy: 0.8188 - val_loss: 0.5618 - val_accuracy: 0.7174\n",
            "Epoch 83/100\n",
            "69/69 [==============================] - 0s 3ms/step - loss: 0.4102 - accuracy: 0.8080 - val_loss: 0.5537 - val_accuracy: 0.7120\n",
            "Epoch 84/100\n",
            "69/69 [==============================] - 0s 3ms/step - loss: 0.4115 - accuracy: 0.8007 - val_loss: 0.5768 - val_accuracy: 0.7337\n",
            "Epoch 85/100\n",
            "69/69 [==============================] - 0s 3ms/step - loss: 0.4038 - accuracy: 0.8225 - val_loss: 0.5744 - val_accuracy: 0.7337\n",
            "Epoch 86/100\n",
            "69/69 [==============================] - 0s 3ms/step - loss: 0.3989 - accuracy: 0.8007 - val_loss: 0.5478 - val_accuracy: 0.7174\n",
            "Epoch 87/100\n",
            "69/69 [==============================] - 0s 3ms/step - loss: 0.3926 - accuracy: 0.8225 - val_loss: 0.5888 - val_accuracy: 0.7228\n",
            "Epoch 88/100\n",
            "69/69 [==============================] - 0s 3ms/step - loss: 0.4026 - accuracy: 0.8188 - val_loss: 0.6110 - val_accuracy: 0.7174\n",
            "Epoch 89/100\n",
            "69/69 [==============================] - 0s 3ms/step - loss: 0.3971 - accuracy: 0.8152 - val_loss: 0.5485 - val_accuracy: 0.7337\n",
            "Epoch 90/100\n",
            "69/69 [==============================] - 0s 3ms/step - loss: 0.3970 - accuracy: 0.8188 - val_loss: 0.5581 - val_accuracy: 0.7120\n",
            "Epoch 91/100\n",
            "69/69 [==============================] - 0s 5ms/step - loss: 0.3868 - accuracy: 0.8261 - val_loss: 0.5519 - val_accuracy: 0.7228\n",
            "Epoch 92/100\n",
            "69/69 [==============================] - 0s 4ms/step - loss: 0.3988 - accuracy: 0.8188 - val_loss: 0.5808 - val_accuracy: 0.7337\n",
            "Epoch 93/100\n",
            "69/69 [==============================] - 0s 4ms/step - loss: 0.3919 - accuracy: 0.8225 - val_loss: 0.6278 - val_accuracy: 0.7011\n",
            "Epoch 94/100\n",
            "69/69 [==============================] - 0s 3ms/step - loss: 0.4027 - accuracy: 0.8152 - val_loss: 0.6061 - val_accuracy: 0.7174\n",
            "Epoch 95/100\n",
            "69/69 [==============================] - 0s 3ms/step - loss: 0.3998 - accuracy: 0.8152 - val_loss: 0.5718 - val_accuracy: 0.7011\n",
            "Epoch 96/100\n",
            "69/69 [==============================] - 0s 3ms/step - loss: 0.3990 - accuracy: 0.8080 - val_loss: 0.5731 - val_accuracy: 0.7120\n",
            "Epoch 97/100\n",
            "69/69 [==============================] - 0s 3ms/step - loss: 0.3866 - accuracy: 0.8297 - val_loss: 0.5507 - val_accuracy: 0.7174\n",
            "Epoch 98/100\n",
            "69/69 [==============================] - 0s 3ms/step - loss: 0.3973 - accuracy: 0.8188 - val_loss: 0.5599 - val_accuracy: 0.7065\n",
            "Epoch 99/100\n",
            "69/69 [==============================] - 0s 3ms/step - loss: 0.3895 - accuracy: 0.8043 - val_loss: 0.5692 - val_accuracy: 0.7011\n",
            "Epoch 100/100\n",
            "69/69 [==============================] - 0s 3ms/step - loss: 0.3721 - accuracy: 0.8261 - val_loss: 0.5683 - val_accuracy: 0.7065\n"
          ]
        }
      ]
    },
    {
      "cell_type": "markdown",
      "metadata": {
        "id": "80o1i3fzZsA-"
      },
      "source": [
        "**11. Plot the training loss and accuracy**"
      ]
    },
    {
      "cell_type": "code",
      "source": [
        "import matplotlib.pyplot as plt \n",
        "acc = hist.history['accuracy']\n",
        "val_acc = hist.history['val_accuracy']\n",
        "loss = hist.history['loss']\n",
        "val_loss = hist.history['val_loss']\n",
        " \n",
        "epochs = range(len(acc))\n",
        " \n",
        "plt.plot(epochs, acc, 'b', label='Training acc')\n",
        "plt.plot(epochs, val_acc, 'r', label='Validation acc')\n",
        "plt.title('Training and validation accuracy')\n",
        "plt.legend()\n",
        "plt.savefig('custom_trainvalacc.png')\n",
        "plt.figure()\n",
        " \n",
        "plt.plot(epochs, loss, 'b', label='Training loss')\n",
        "plt.plot(epochs, val_loss, 'r', label='Validation loss')\n",
        "plt.title('Training and validation loss')\n",
        "plt.legend()\n",
        " \n",
        "#plt.show()\n",
        "plt.savefig('custom_trainvalloss.png')\n",
        "plt.figure()"
      ],
      "metadata": {
        "colab": {
          "base_uri": "https://localhost:8080/",
          "height": 580
        },
        "id": "69dOEi6HAiXT",
        "outputId": "2670e640-308d-402b-8a1a-628e3d82d50a"
      },
      "execution_count": 63,
      "outputs": [
        {
          "output_type": "execute_result",
          "data": {
            "text/plain": [
              "<Figure size 432x288 with 0 Axes>"
            ]
          },
          "metadata": {},
          "execution_count": 63
        },
        {
          "output_type": "display_data",
          "data": {
            "text/plain": [
              "<Figure size 432x288 with 1 Axes>"
            ],
            "image/png": "[encoded data removed]"
          },
          "metadata": {
            "needs_background": "light"
          }
        },
        {
          "output_type": "display_data",
          "data": {
            "text/plain": [
              "<Figure size 432x288 with 1 Axes>"
            ],
            "image/png": "[encoded data removed]"
          },
          "metadata": {
            "needs_background": "light"
          }
        },
        {
          "output_type": "display_data",
          "data": {
            "text/plain": [
              "<Figure size 432x288 with 0 Axes>"
            ]
          },
          "metadata": {}
        }
      ]
    },
    {
      "cell_type": "markdown",
      "metadata": {
        "id": "a8fUXoqeZvwf"
      },
      "source": [
        "**12. Evaluate the performance**"
      ]
    },
    {
      "cell_type": "code",
      "metadata": {
        "colab": {
          "base_uri": "https://localhost:8080/"
        },
        "id": "wawHhkURYMLE",
        "outputId": "6c8a48f4-4fe8-4f3a-d9af-c37f93df0821"
      },
      "source": [
        "res =model.evaluate(X_testing, Y_testing)"
      ],
      "execution_count": 64,
      "outputs": [
        {
          "output_type": "stream",
          "name": "stdout",
          "text": [
            "10/10 [==============================] - 0s 3ms/step - loss: 0.5100 - accuracy: 0.7695\n"
          ]
        }
      ]
    },
    {
      "cell_type": "markdown",
      "metadata": {
        "id": "0WCSw36oZyG_"
      },
      "source": [
        "**13. Predict on new datatset**\n"
      ]
    },
    {
      "cell_type": "code",
      "metadata": {
        "colab": {
          "base_uri": "https://localhost:8080/"
        },
        "id": "CcE27mGFYo3G",
        "outputId": "004bd738-5033-40d1-a336-93eefb2f9cd0"
      },
      "source": [
        "test=X_testing[0]\n",
        "y_act=Y_testing[0]\n",
        "result=model.predict(test.reshape(1,8))\n",
        "result"
      ],
      "execution_count": 65,
      "outputs": [
        {
          "output_type": "execute_result",
          "data": {
            "text/plain": [
              "array([[0.4283385, 0.5716614]], dtype=float32)"
            ]
          },
          "metadata": {},
          "execution_count": 65
        }
      ]
    },
    {
      "cell_type": "code",
      "metadata": {
        "colab": {
          "base_uri": "https://localhost:8080/"
        },
        "id": "T4RDC-ZHYqv_",
        "outputId": "1556be20-5228-4d22-cde2-8e5605d188e0"
      },
      "source": [
        "import numpy as np\n",
        "y_pred = np.round(result)\n",
        "print(\"Actual:\"+ str(y_act))\n",
        "print(\"Predicted:\"+str(y_pred))"
      ],
      "execution_count": 66,
      "outputs": [
        {
          "output_type": "stream",
          "name": "stdout",
          "text": [
            "Actual:[0. 1.]\n",
            "Predicted:[[0. 1.]]\n"
          ]
        }
      ]
    },
    {
      "cell_type": "markdown",
      "metadata": {
        "id": "E9mMqJtXYz2Q"
      },
      "source": [
        "**Reference:** - https://keras.io/"
      ]
    }
  ]
}