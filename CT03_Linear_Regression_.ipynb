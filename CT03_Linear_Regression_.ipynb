{
  "nbformat": 4,
  "nbformat_minor": 0,
  "metadata": {
    "kernelspec": {
      "display_name": "Python 3",
      "language": "python",
      "name": "python3"
    },
    "language_info": {
      "codemirror_mode": {
        "name": "ipython",
        "version": 3
      },
      "file_extension": ".py",
      "mimetype": "text/x-python",
      "name": "python",
      "nbconvert_exporter": "python",
      "pygments_lexer": "ipython3",
      "version": "3.7.3"
    },
    "colab": {
      "name": "CT03 Linear Regression .ipynb",
      "provenance": [],
      "collapsed_sections": [],
      "include_colab_link": true
    }
  },
  "cells": [
    {
      "cell_type": "markdown",
      "metadata": {
        "id": "view-in-github",
        "colab_type": "text"
      },
      "source": [
        "<a href=\"https://colab.research.google.com/github/abhishek9039/ML-LAB/blob/main/CT03_Linear_Regression_.ipynb\" target=\"_parent\"><img src=\"https://colab.research.google.com/assets/colab-badge.svg\" alt=\"Open In Colab\"/></a>"
      ]
    },
    {
      "cell_type": "code",
      "metadata": {
        "id": "JJM8ymxD96uR"
      },
      "source": [
        "class MyLinearRegression:\n",
        "    def __init__(self, weight=9, bias=3, learning_rate=0.01,\n",
        "                 iterations=50):\n",
        "        self.weight = weight\n",
        "        self.bias = bias\n",
        "        self.learning_rate = learning_rate\n",
        "        self.iterations = iterations\n",
        "        self.cost_trend = []\n",
        "        self.cost = 0\n",
        "\n",
        "    def predict(self, x):\n",
        "        predicted_set = []\n",
        "        for i in range(len(x)):\n",
        "            predicted_value = self.weight * x[i] + self.bias\n",
        "            predicted_set.append(predicted_value)\n",
        "        return predicted_set\n",
        "\n",
        "    def cost_function(self, x, y):\n",
        "        count = len(x)\n",
        "        total_error = 0.0\n",
        "        for i in range(count):\n",
        "            total_error += (y[i] - (self.weight * x[i] +\n",
        "                            self.bias)) ** 2\n",
        "        return float(total_error) / (2 * count)\n",
        "\n",
        "    def update_weights(self, x, y):\n",
        "        weight_deriv = 0\n",
        "        bias_deriv = 0\n",
        "        count = len(x)\n",
        "\n",
        "        for i in range(count):\n",
        "            # Calculate partial derivatives\n",
        "            # -2x(y - (mx + b))\n",
        "            weight_deriv += -2 * x[i] * (y[i] -(self.weight * x[i] + self.bias))\n",
        "\n",
        "            # -2(y - (mx + b))\n",
        "            bias_deriv += -2 * (y[i] - (self.weight * x[i] +\n",
        "                                self.bias))\n",
        "\n",
        "        # We subtract because the derivatives point in direction of steepest\n",
        "        # ascent\n",
        "        self.weight -= (weight_deriv / count) * self.learning_rate\n",
        "        self.bias -= (bias_deriv / count) * self.learning_rate\n",
        "\n",
        "    def train(self, x, y):\n",
        "        for i in range(self.iterations):\n",
        "            self.update_weights(x, y)\n",
        "            # Calculating cost\n",
        "            self.cost = self.cost_function(x, y)\n",
        "            self.cost_trend.append(self.cost)\n",
        "           # if i % 10000 == 0:\n",
        "            print(\"Iteration: {}\\t Weight: {}\\t Bias: {}\\t Cost: {}\".format(i, self.weight, self.bias, self.cost))"
      ],
      "execution_count": null,
      "outputs": []
    },
    {
      "cell_type": "code",
      "source": [
        ""
      ],
      "metadata": {
        "id": "10qv2JGFoqfk"
      },
      "execution_count": null,
      "outputs": []
    },
    {
      "cell_type": "code",
      "metadata": {
        "id": "XGMUmPfj96ua",
        "colab": {
          "base_uri": "https://localhost:8080/",
          "height": 363
        },
        "outputId": "b737968c-9c35-4f0f-a235-7246067aedbc"
      },
      "source": [
        "import pandas as pd\n",
        "import numpy as np\n",
        "import matplotlib.pyplot as plt\n",
        "# intialise data of lists. \n",
        "data = {'Hours':[1,2,3,4,5,6,7,8,9,10], \n",
        "        'Scores':[3,6,9,12,15.5,18,21,24,27,30]} \n",
        "  \n",
        "# Create DataFrame \n",
        "studentscores = pd.DataFrame(data) \n",
        "  \n",
        "# Print the output. \n",
        "studentscores "
      ],
      "execution_count": null,
      "outputs": [
        {
          "output_type": "execute_result",
          "data": {
            "text/html": [
              "\n",
              "  <div id=\"df-095ec7e9-64f6-43db-adbc-fbaeed47e5aa\">\n",
              "    <div class=\"colab-df-container\">\n",
              "      <div>\n",
              "<style scoped>\n",
              "    .dataframe tbody tr th:only-of-type {\n",
              "        vertical-align: middle;\n",
              "    }\n",
              "\n",
              "    .dataframe tbody tr th {\n",
              "        vertical-align: top;\n",
              "    }\n",
              "\n",
              "    .dataframe thead th {\n",
              "        text-align: right;\n",
              "    }\n",
              "</style>\n",
              "<table border=\"1\" class=\"dataframe\">\n",
              "  <thead>\n",
              "    <tr style=\"text-align: right;\">\n",
              "      <th></th>\n",
              "      <th>Hours</th>\n",
              "      <th>Scores</th>\n",
              "    </tr>\n",
              "  </thead>\n",
              "  <tbody>\n",
              "    <tr>\n",
              "      <th>0</th>\n",
              "      <td>1</td>\n",
              "      <td>3.0</td>\n",
              "    </tr>\n",
              "    <tr>\n",
              "      <th>1</th>\n",
              "      <td>2</td>\n",
              "      <td>6.0</td>\n",
              "    </tr>\n",
              "    <tr>\n",
              "      <th>2</th>\n",
              "      <td>3</td>\n",
              "      <td>9.0</td>\n",
              "    </tr>\n",
              "    <tr>\n",
              "      <th>3</th>\n",
              "      <td>4</td>\n",
              "      <td>12.0</td>\n",
              "    </tr>\n",
              "    <tr>\n",
              "      <th>4</th>\n",
              "      <td>5</td>\n",
              "      <td>15.5</td>\n",
              "    </tr>\n",
              "    <tr>\n",
              "      <th>5</th>\n",
              "      <td>6</td>\n",
              "      <td>18.0</td>\n",
              "    </tr>\n",
              "    <tr>\n",
              "      <th>6</th>\n",
              "      <td>7</td>\n",
              "      <td>21.0</td>\n",
              "    </tr>\n",
              "    <tr>\n",
              "      <th>7</th>\n",
              "      <td>8</td>\n",
              "      <td>24.0</td>\n",
              "    </tr>\n",
              "    <tr>\n",
              "      <th>8</th>\n",
              "      <td>9</td>\n",
              "      <td>27.0</td>\n",
              "    </tr>\n",
              "    <tr>\n",
              "      <th>9</th>\n",
              "      <td>10</td>\n",
              "      <td>30.0</td>\n",
              "    </tr>\n",
              "  </tbody>\n",
              "</table>\n",
              "</div>\n",
              "      <button class=\"colab-df-convert\" onclick=\"convertToInteractive('df-095ec7e9-64f6-43db-adbc-fbaeed47e5aa')\"\n",
              "              title=\"Convert this dataframe to an interactive table.\"\n",
              "              style=\"display:none;\">\n",
              "        \n",
              "  <svg xmlns=\"http://www.w3.org/2000/svg\" height=\"24px\"viewBox=\"0 0 24 24\"\n",
              "       width=\"24px\">\n",
              "    <path d=\"M0 0h24v24H0V0z\" fill=\"none\"/>\n",
              "    <path d=\"M18.56 5.44l.94 2.06.94-2.06 2.06-.94-2.06-.94-.94-2.06-.94 2.06-2.06.94zm-11 1L8.5 8.5l.94-2.06 2.06-.94-2.06-.94L8.5 2.5l-.94 2.06-2.06.94zm10 10l.94 2.06.94-2.06 2.06-.94-2.06-.94-.94-2.06-.94 2.06-2.06.94z\"/><path d=\"M17.41 7.96l-1.37-1.37c-.4-.4-.92-.59-1.43-.59-.52 0-1.04.2-1.43.59L10.3 9.45l-7.72 7.72c-.78.78-.78 2.05 0 2.83L4 21.41c.39.39.9.59 1.41.59.51 0 1.02-.2 1.41-.59l7.78-7.78 2.81-2.81c.8-.78.8-2.07 0-2.86zM5.41 20L4 18.59l7.72-7.72 1.47 1.35L5.41 20z\"/>\n",
              "  </svg>\n",
              "      </button>\n",
              "      \n",
              "  <style>\n",
              "    .colab-df-container {\n",
              "      display:flex;\n",
              "      flex-wrap:wrap;\n",
              "      gap: 12px;\n",
              "    }\n",
              "\n",
              "    .colab-df-convert {\n",
              "      background-color: #E8F0FE;\n",
              "      border: none;\n",
              "      border-radius: 50%;\n",
              "      cursor: pointer;\n",
              "      display: none;\n",
              "      fill: #1967D2;\n",
              "      height: 32px;\n",
              "      padding: 0 0 0 0;\n",
              "      width: 32px;\n",
              "    }\n",
              "\n",
              "    .colab-df-convert:hover {\n",
              "      background-color: #E2EBFA;\n",
              "      box-shadow: 0px 1px 2px rgba(60, 64, 67, 0.3), 0px 1px 3px 1px rgba(60, 64, 67, 0.15);\n",
              "      fill: #174EA6;\n",
              "    }\n",
              "\n",
              "    [theme=dark] .colab-df-convert {\n",
              "      background-color: #3B4455;\n",
              "      fill: #D2E3FC;\n",
              "    }\n",
              "\n",
              "    [theme=dark] .colab-df-convert:hover {\n",
              "      background-color: #434B5C;\n",
              "      box-shadow: 0px 1px 3px 1px rgba(0, 0, 0, 0.15);\n",
              "      filter: drop-shadow(0px 1px 2px rgba(0, 0, 0, 0.3));\n",
              "      fill: #FFFFFF;\n",
              "    }\n",
              "  </style>\n",
              "\n",
              "      <script>\n",
              "        const buttonEl =\n",
              "          document.querySelector('#df-095ec7e9-64f6-43db-adbc-fbaeed47e5aa button.colab-df-convert');\n",
              "        buttonEl.style.display =\n",
              "          google.colab.kernel.accessAllowed ? 'block' : 'none';\n",
              "\n",
              "        async function convertToInteractive(key) {\n",
              "          const element = document.querySelector('#df-095ec7e9-64f6-43db-adbc-fbaeed47e5aa');\n",
              "          const dataTable =\n",
              "            await google.colab.kernel.invokeFunction('convertToInteractive',\n",
              "                                                     [key], {});\n",
              "          if (!dataTable) return;\n",
              "\n",
              "          const docLinkHtml = 'Like what you see? Visit the ' +\n",
              "            '<a target=\"_blank\" href=https://colab.research.google.com/notebooks/data_table.ipynb>data table notebook</a>'\n",
              "            + ' to learn more about interactive tables.';\n",
              "          element.innerHTML = '';\n",
              "          dataTable['output_type'] = 'display_data';\n",
              "          await google.colab.output.renderOutput(dataTable, element);\n",
              "          const docLink = document.createElement('div');\n",
              "          docLink.innerHTML = docLinkHtml;\n",
              "          element.appendChild(docLink);\n",
              "        }\n",
              "      </script>\n",
              "    </div>\n",
              "  </div>\n",
              "  "
            ],
            "text/plain": [
              "   Hours  Scores\n",
              "0      1     3.0\n",
              "1      2     6.0\n",
              "2      3     9.0\n",
              "3      4    12.0\n",
              "4      5    15.5\n",
              "5      6    18.0\n",
              "6      7    21.0\n",
              "7      8    24.0\n",
              "8      9    27.0\n",
              "9     10    30.0"
            ]
          },
          "metadata": {},
          "execution_count": 41
        }
      ]
    },
    {
      "cell_type": "code",
      "metadata": {
        "id": "Avh401TI11sH",
        "outputId": "8e64b7a2-0c9e-45c9-840d-a6863b5436a4",
        "colab": {
          "base_uri": "https://localhost:8080/",
          "height": 279
        }
      },
      "source": [
        "x=[2.5,5.1,3.2,8.5,3.5,1.5,9.2,5.5,8.3,2.7,7.7,5.9,4.5,3.3,1.1,8.9,2.5,1.9,6.1,7.4,2.7,4.8,3.8,6.9,7.8] \n",
        "y=[21,47,27,75,30,20,88,60,81,25,85,62,41,42,17,95,30,24,67,69,30,54,35,76,86]\n",
        "plt.scatter(x,y,s=10)\n",
        "plt.xlabel('a')\n",
        "plt.ylabel('b')\n",
        "plt.show()"
      ],
      "execution_count": null,
      "outputs": [
        {
          "output_type": "display_data",
          "data": {
            "image/png": "[encoded data removed]",
            "text/plain": [
              "<Figure size 432x288 with 1 Axes>"
            ]
          },
          "metadata": {
            "needs_background": "light"
          }
        }
      ]
    },
    {
      "cell_type": "code",
      "metadata": {
        "id": "_LSp2jKt96uj",
        "outputId": "9eb50bb2-547e-4085-e3e7-165fea243639",
        "colab": {
          "base_uri": "https://localhost:8080/"
        }
      },
      "source": [
        "#from my_linear_regression import MyLinearRegression\n",
        "import matplotlib.pyplot as plt\n",
        "import pandas as pd\n",
        "from sklearn.model_selection import train_test_split\n",
        "\n",
        "# Importing the dataset\n",
        "\n",
        "X = studentscores.iloc[:, : -1].values\n",
        "y = studentscores.iloc[:, -1].values\n",
        "X,y"
      ],
      "execution_count": null,
      "outputs": [
        {
          "output_type": "execute_result",
          "data": {
            "text/plain": [
              "(array([[ 1],\n",
              "        [ 2],\n",
              "        [ 3],\n",
              "        [ 4],\n",
              "        [ 5],\n",
              "        [ 6],\n",
              "        [ 7],\n",
              "        [ 8],\n",
              "        [ 9],\n",
              "        [10]]),\n",
              " array([ 3. ,  6. ,  9. , 12. , 15.5, 18. , 21. , 24. , 27. , 30. ]))"
            ]
          },
          "metadata": {},
          "execution_count": 43
        }
      ]
    },
    {
      "cell_type": "code",
      "metadata": {
        "id": "PvfKE_WT96un",
        "outputId": "f56a28ac-065e-49a3-9451-d80b67e06ed0",
        "colab": {
          "base_uri": "https://localhost:8080/"
        }
      },
      "source": [
        "X_train, X_test, y_train, y_test = train_test_split(X, y, test_size=4/9, random_state=0)\n",
        "\n",
        "# Fitting Simple Linear Regression to the Training set\n",
        "regressor = MyLinearRegression()\n",
        "regressor.train(X_train, y_train)\n",
        "print('Weight: ' + str(regressor.weight) + ' Bias: ' + str(regressor.bias))\n",
        "\n",
        "# Predicting the Test set results\n",
        "y_pred = regressor.predict(X_test)\n"
      ],
      "execution_count": null,
      "outputs": [
        {
          "output_type": "stream",
          "name": "stdout",
          "text": [
            "Iteration: 0\t Weight: [4.704]\t Bias: [2.316]\t Cost: 71.40356639999997\n",
            "Iteration: 1\t Weight: [3.33168]\t Bias: [2.092464]\t Cost: 7.624343716991999\n",
            "Iteration: 2\t Weight: [2.89382822]\t Bias: [2.01612]\t Cost: 1.1064063177638799\n",
            "Iteration: 3\t Weight: [2.7546498]\t Bias: [1.98683946]\t Cost: 0.43817950684050533\n",
            "Iteration: 4\t Weight: [2.71093103]\t Bias: [1.9726191]\t Cost: 0.3675640354534546\n",
            "Iteration: 5\t Weight: [2.69772044]\t Bias: [1.96322989]\t Cost: 0.3580162868977591\n",
            "Iteration: 6\t Weight: [2.69425816]\t Bias: [1.95540236]\t Cost: 0.3547239627070097\n",
            "Iteration: 7\t Weight: [2.6939089]\t Bias: [1.94809147]\t Cost: 0.3520874309248082\n",
            "Iteration: 8\t Weight: [2.69455188]\t Bias: [1.94096311]\t Cost: 0.3495345237319138\n",
            "Iteration: 9\t Weight: [2.69550927]\t Bias: [1.93391046]\t Cost: 0.3470066694236654\n",
            "Iteration: 10\t Weight: [2.69656443]\t Bias: [1.92689928]\t Cost: 0.34449776507137314\n",
            "Iteration: 11\t Weight: [2.69764812]\t Bias: [1.9199186]\t Cost: 0.34200706870994807\n",
            "Iteration: 12\t Weight: [2.69873823]\t Bias: [1.91296482]\t Cost: 0.33953438689591436\n",
            "Iteration: 13\t Weight: [2.69982771]\t Bias: [1.90603675]\t Cost: 0.3370795830721862\n",
            "Iteration: 14\t Weight: [2.70091429]\t Bias: [1.89913393]\t Cost: 0.33464252733749433\n",
            "Iteration: 15\t Weight: [2.70199727]\t Bias: [1.89225617]\t Cost: 0.3322230913088275\n",
            "Iteration: 16\t Weight: [2.70307644]\t Bias: [1.88540333]\t Cost: 0.32982114759053005\n",
            "Iteration: 17\t Weight: [2.70415174]\t Bias: [1.87857531]\t Cost: 0.3274365697140495\n",
            "Iteration: 18\t Weight: [2.70522315]\t Bias: [1.87177202]\t Cost: 0.32506923212580774\n",
            "Iteration: 19\t Weight: [2.70629069]\t Bias: [1.86499338]\t Cost: 0.3227190101800308\n",
            "Iteration: 20\t Weight: [2.70735436]\t Bias: [1.85823928]\t Cost: 0.3203857801321275\n",
            "Iteration: 21\t Weight: [2.70841418]\t Bias: [1.85150964]\t Cost: 0.31806941913217274\n",
            "Iteration: 22\t Weight: [2.70947016]\t Bias: [1.84480437]\t Cost: 0.31576980521843323\n",
            "Iteration: 23\t Weight: [2.71052232]\t Bias: [1.83812339]\t Cost: 0.31348681731094935\n",
            "Iteration: 24\t Weight: [2.71157067]\t Bias: [1.8314666]\t Cost: 0.3112203352051591\n",
            "Iteration: 25\t Weight: [2.71261522]\t Bias: [1.82483391]\t Cost: 0.3089702395655687\n",
            "Iteration: 26\t Weight: [2.71365599]\t Bias: [1.81822525]\t Cost: 0.3067364119194686\n",
            "Iteration: 27\t Weight: [2.71469298]\t Bias: [1.81164053]\t Cost: 0.30451873465069784\n",
            "Iteration: 28\t Weight: [2.71572623]\t Bias: [1.80507965]\t Cost: 0.3023170909934495\n",
            "Iteration: 29\t Weight: [2.71675573]\t Bias: [1.79854252]\t Cost: 0.3001313650261228\n",
            "Iteration: 30\t Weight: [2.7177815]\t Bias: [1.79202908]\t Cost: 0.29796144166522004\n",
            "Iteration: 31\t Weight: [2.71880356]\t Bias: [1.78553922]\t Cost: 0.29580720665928745\n",
            "Iteration: 32\t Weight: [2.71982192]\t Bias: [1.77907287]\t Cost: 0.2936685465828986\n",
            "Iteration: 33\t Weight: [2.72083659]\t Bias: [1.77262993]\t Cost: 0.2915453488306839\n",
            "Iteration: 34\t Weight: [2.72184758]\t Bias: [1.76621033]\t Cost: 0.2894375016114001\n",
            "Iteration: 35\t Weight: [2.72285491]\t Bias: [1.75981397]\t Cost: 0.2873448939420439\n",
            "Iteration: 36\t Weight: [2.7238586]\t Bias: [1.75344078]\t Cost: 0.2852674156420113\n",
            "Iteration: 37\t Weight: [2.72485865]\t Bias: [1.74709067]\t Cost: 0.2832049573272927\n",
            "Iteration: 38\t Weight: [2.72585508]\t Bias: [1.74076356]\t Cost: 0.281157410404716\n",
            "Iteration: 39\t Weight: [2.7268479]\t Bias: [1.73445936]\t Cost: 0.2791246670662279\n",
            "Iteration: 40\t Weight: [2.72783712]\t Bias: [1.72817799]\t Cost: 0.27710662028321836\n",
            "Iteration: 41\t Weight: [2.72882276]\t Bias: [1.72191937]\t Cost: 0.27510316380088473\n",
            "Iteration: 42\t Weight: [2.72980483]\t Bias: [1.71568342]\t Cost: 0.2731141921326359\n",
            "Iteration: 43\t Weight: [2.73078335]\t Bias: [1.70947004]\t Cost: 0.2711396005545406\n",
            "Iteration: 44\t Weight: [2.73175832]\t Bias: [1.70327918]\t Cost: 0.2691792850998137\n",
            "Iteration: 45\t Weight: [2.73272976]\t Bias: [1.69711073]\t Cost: 0.2672331425533376\n",
            "Iteration: 46\t Weight: [2.73369768]\t Bias: [1.69096462]\t Cost: 0.26530107044623386\n",
            "Iteration: 47\t Weight: [2.7346621]\t Bias: [1.68484077]\t Cost: 0.2633829670504634\n",
            "Iteration: 48\t Weight: [2.73562303]\t Bias: [1.67873909]\t Cost: 0.2614787313734729\n",
            "Iteration: 49\t Weight: [2.73658047]\t Bias: [1.67265951]\t Cost: 0.25958826315287487\n",
            "Weight: [2.73658047] Bias: [1.67265951]\n"
          ]
        }
      ]
    },
    {
      "cell_type": "code",
      "metadata": {
        "id": "Z6VkaIc6KE2Q",
        "outputId": "90d19eef-b039-4328-f3ab-4b7bd4403ca8",
        "colab": {
          "base_uri": "https://localhost:8080/",
          "height": 279
        }
      },
      "source": [
        "w = regressor.weight\n",
        "b = regressor.bias\n",
        "x=[2.5,5.1,3.2,8.5,3.5,1.5,9.2,5.5,8.3,2.7,7.7,5.9,4.5,3.3,1.1,8.9,2.5,1.9,6.1,7.4,2.7,4.8,3.8,6.9,7.8] \n",
        "y=[21,47,27,75,30,20,88,60,81,25,85,62,41,42,17,95,30,24,67,69,30,54,35,76,86]\n",
        "plt.scatter(x,y)\n",
        "axes = plt.gca()\n",
        "x_vals = np.array(axes.get_xlim())\n",
        "y_vals = b + w * x_vals\n",
        "plt.plot(x_vals, y_vals)\n",
        "plt.xlabel('x')\n",
        "plt.ylabel('y')\n",
        "plt.show()"
      ],
      "execution_count": null,
      "outputs": [
        {
          "output_type": "display_data",
          "data": {
            "image/png": "[encoded data removed]",
            "text/plain": [
              "<Figure size 432x288 with 1 Axes>"
            ]
          },
          "metadata": {
            "needs_background": "light"
          }
        }
      ]
    }
  ]
}